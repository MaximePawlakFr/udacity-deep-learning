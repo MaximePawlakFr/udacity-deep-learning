{
 "cells": [
  {
   "cell_type": "markdown",
   "metadata": {
    "colab_type": "text",
    "id": "kR-4eNdK6lYS"
   },
   "source": [
    "Deep Learning\n",
    "=============\n",
    "\n",
    "Assignment 3\n",
    "------------\n",
    "\n",
    "Previously in `2_fullyconnected.ipynb`, you trained a logistic regression and a neural network model.\n",
    "\n",
    "The goal of this assignment is to explore regularization techniques."
   ]
  },
  {
   "cell_type": "code",
   "execution_count": 1,
   "metadata": {
    "cellView": "both",
    "colab": {
     "autoexec": {
      "startup": false,
      "wait_interval": 0
     }
    },
    "colab_type": "code",
    "collapsed": true,
    "id": "JLpLa8Jt7Vu4"
   },
   "outputs": [],
   "source": [
    "# These are all the modules we'll be using later. Make sure you can import them\n",
    "# before proceeding further.\n",
    "from __future__ import print_function\n",
    "import numpy as np\n",
    "import tensorflow as tf\n",
    "from six.moves import cPickle as pickle"
   ]
  },
  {
   "cell_type": "markdown",
   "metadata": {
    "colab_type": "text",
    "id": "1HrCK6e17WzV"
   },
   "source": [
    "First reload the data we generated in `1_notmnist.ipynb`."
   ]
  },
  {
   "cell_type": "code",
   "execution_count": 3,
   "metadata": {
    "cellView": "both",
    "colab": {
     "autoexec": {
      "startup": false,
      "wait_interval": 0
     },
     "output_extras": [
      {
       "item_id": 1
      }
     ]
    },
    "colab_type": "code",
    "executionInfo": {
     "elapsed": 11777,
     "status": "ok",
     "timestamp": 1449849322348,
     "user": {
      "color": "",
      "displayName": "",
      "isAnonymous": false,
      "isMe": true,
      "permissionId": "",
      "photoUrl": "",
      "sessionId": "0",
      "userId": ""
     },
     "user_tz": 480
    },
    "id": "y3-cj1bpmuxc",
    "outputId": "e03576f1-ebbe-4838-c388-f1777bcc9873"
   },
   "outputs": [
    {
     "name": "stdout",
     "output_type": "stream",
     "text": [
      "Training set (200000, 28, 28) (200000,)\n",
      "Validation set (10000, 28, 28) (10000,)\n",
      "Test set (10000, 28, 28) (10000,)\n"
     ]
    }
   ],
   "source": [
    "pickle_file = 'notMNIST.pickle'\n",
    "\n",
    "with open(pickle_file, 'rb') as f:\n",
    "  save = pickle.load(f)\n",
    "  train_dataset = save['train_dataset']\n",
    "  train_labels = save['train_labels']\n",
    "  valid_dataset = save['valid_dataset']\n",
    "  valid_labels = save['valid_labels']\n",
    "  test_dataset = save['test_dataset']\n",
    "  test_labels = save['test_labels']\n",
    "  del save  # hint to help gc free up memory\n",
    "  print('Training set', train_dataset.shape, train_labels.shape)\n",
    "  print('Validation set', valid_dataset.shape, valid_labels.shape)\n",
    "  print('Test set', test_dataset.shape, test_labels.shape)"
   ]
  },
  {
   "cell_type": "markdown",
   "metadata": {
    "colab_type": "text",
    "id": "L7aHrm6nGDMB"
   },
   "source": [
    "Reformat into a shape that's more adapted to the models we're going to train:\n",
    "- data as a flat matrix,\n",
    "- labels as float 1-hot encodings."
   ]
  },
  {
   "cell_type": "code",
   "execution_count": 4,
   "metadata": {
    "cellView": "both",
    "colab": {
     "autoexec": {
      "startup": false,
      "wait_interval": 0
     },
     "output_extras": [
      {
       "item_id": 1
      }
     ]
    },
    "colab_type": "code",
    "executionInfo": {
     "elapsed": 11728,
     "status": "ok",
     "timestamp": 1449849322356,
     "user": {
      "color": "",
      "displayName": "",
      "isAnonymous": false,
      "isMe": true,
      "permissionId": "",
      "photoUrl": "",
      "sessionId": "0",
      "userId": ""
     },
     "user_tz": 480
    },
    "id": "IRSyYiIIGIzS",
    "outputId": "3f8996ee-3574-4f44-c953-5c8a04636582"
   },
   "outputs": [
    {
     "name": "stdout",
     "output_type": "stream",
     "text": [
      "Training set (200000, 784) (200000, 10)\n",
      "Validation set (10000, 784) (10000, 10)\n",
      "Test set (10000, 784) (10000, 10)\n"
     ]
    }
   ],
   "source": [
    "image_size = 28\n",
    "num_labels = 10\n",
    "\n",
    "def reformat(dataset, labels):\n",
    "  dataset = dataset.reshape((-1, image_size * image_size)).astype(np.float32)\n",
    "  # Map 1 to [0.0, 1.0, 0.0 ...], 2 to [0.0, 0.0, 1.0 ...]\n",
    "  labels = (np.arange(num_labels) == labels[:,None]).astype(np.float32)\n",
    "  return dataset, labels\n",
    "train_dataset, train_labels = reformat(train_dataset, train_labels)\n",
    "valid_dataset, valid_labels = reformat(valid_dataset, valid_labels)\n",
    "test_dataset, test_labels = reformat(test_dataset, test_labels)\n",
    "print('Training set', train_dataset.shape, train_labels.shape)\n",
    "print('Validation set', valid_dataset.shape, valid_labels.shape)\n",
    "print('Test set', test_dataset.shape, test_labels.shape)"
   ]
  },
  {
   "cell_type": "code",
   "execution_count": 5,
   "metadata": {
    "cellView": "both",
    "colab": {
     "autoexec": {
      "startup": false,
      "wait_interval": 0
     }
    },
    "colab_type": "code",
    "collapsed": true,
    "id": "RajPLaL_ZW6w"
   },
   "outputs": [],
   "source": [
    "def accuracy(predictions, labels):\n",
    "  return (100.0 * np.sum(np.argmax(predictions, 1) == np.argmax(labels, 1))\n",
    "          / predictions.shape[0])"
   ]
  },
  {
   "cell_type": "markdown",
   "metadata": {
    "colab_type": "text",
    "id": "sgLbUAQ1CW-1"
   },
   "source": [
    "---\n",
    "Problem 1\n",
    "---------\n",
    "\n",
    "Introduce and tune L2 regularization for both logistic and neural network models. Remember that L2 amounts to adding a penalty on the norm of the weights to the loss. In TensorFlow, you can compute the L2 loss for a tensor `t` using `nn.l2_loss(t)`. The right amount of regularization should improve your validation / test accuracy.\n",
    "\n",
    "---"
   ]
  },
  {
   "cell_type": "code",
   "execution_count": 19,
   "metadata": {},
   "outputs": [],
   "source": [
    "batch_size = 128\n",
    "graph = tf.Graph()\n",
    "image_size2 = image_size * image_size\n",
    "\n",
    "def get_logits(data_set, weights, biais):\n",
    "    return tf.nn.softmax(tf.matmul(data_set, weights) + biais)\n",
    "\n",
    "with graph.as_default():\n",
    "    tf_train_dataset = tf.placeholder(tf.float32, shape=(batch_size, image_size2))\n",
    "    tf_train_labels = tf.placeholder(tf.float32, shape=(batch_size, num_labels))\n",
    "    tf_valid_dataset = tf.constant(valid_dataset)    \n",
    "    tf_test_dataset = tf.constant(test_dataset) \n",
    "    \n",
    "    beta_regul = tf.placeholder(tf.float32)\n",
    "    \n",
    "    weights = tf.Variable(tf.truncated_normal([image_size2, num_labels]))\n",
    "    biais = tf.Variable(tf.zeros([num_labels]))\n",
    "    \n",
    "    logits = tf.matmul(tf_train_dataset, weights) + biais\n",
    "    loss = tf.reduce_mean(tf.nn.softmax_cross_entropy_with_logits(labels=tf_train_labels, logits=logits)) \\\n",
    "        + beta_regul* tf.nn.l2_loss(weights)\n",
    "    \n",
    "    optimizer = tf.train.GradientDescentOptimizer(0.5).minimize(loss)\n",
    "    \n",
    "    train_prediction = tf.nn.softmax(logits)\n",
    "    valid_prediction = get_logits(tf_valid_dataset, weights, biais)\n",
    "    test_prediction = get_logits(tf_test_dataset, weights, biais)    "
   ]
  },
  {
   "cell_type": "code",
   "execution_count": 20,
   "metadata": {},
   "outputs": [
    {
     "name": "stdout",
     "output_type": "stream",
     "text": [
      "Initialized\n",
      "Loss at step 0: 18.944595\n",
      "Training accuracy: 1.6%\n",
      "Validation accuracy: 11.7%\n",
      "Loss at step 500: 2.745388\n",
      "Training accuracy: 3.9%\n",
      "Validation accuracy: 76.7%\n",
      "Loss at step 1000: 1.553520\n",
      "Training accuracy: 2.3%\n",
      "Validation accuracy: 78.5%\n",
      "Loss at step 1500: 1.528104\n",
      "Training accuracy: 2.3%\n",
      "Validation accuracy: 79.6%\n",
      "Loss at step 2000: 1.008913\n",
      "Training accuracy: 2.3%\n",
      "Validation accuracy: 81.3%\n",
      "Loss at step 2500: 0.927184\n",
      "Training accuracy: 3.1%\n",
      "Validation accuracy: 82.5%\n",
      "Loss at step 3000: 0.925713\n",
      "Training accuracy: 5.5%\n",
      "Validation accuracy: 82.6%\n",
      "Test accuracy: 89.3%\n"
     ]
    }
   ],
   "source": [
    "num_steps = 3001\n",
    "\n",
    "with tf.Session(graph=graph) as session:\n",
    "    tf.global_variables_initializer().run()\n",
    "    print(\"Initialized\")\n",
    "    for step in range(num_steps):\n",
    "    \n",
    "        offset = (step * batch_size) % (train_labels.shape[0] - batch_size)\n",
    "\n",
    "        batch_data = train_dataset[offset: (batch_size + offset), :]\n",
    "        batch_labels = train_labels[offset: (batch_size + offset), :]\n",
    "\n",
    "        feed_dict = { tf_train_dataset: batch_data, tf_train_labels: batch_labels, beta_regul: 1e-3}\n",
    "        _, l, predictions = session.run([optimizer, loss, train_prediction], feed_dict=feed_dict)\n",
    "\n",
    "        if (step %500 == 0):\n",
    "                print(\"Loss at step %d: %f\" % (step,l))\n",
    "                print('Minibatch accuracy: %.1f%%' % accuracy(predictions, batch_data))\n",
    "                print('Validation accuracy: %.1f%%' % accuracy(valid_prediction.eval(), valid_labels))\n",
    "    print(\"Test accuracy: %.1f%%\" % accuracy(test_prediction.eval(), test_labels))"
   ]
  },
  {
   "cell_type": "markdown",
   "metadata": {},
   "source": [
    "## Neural Network"
   ]
  },
  {
   "cell_type": "code",
   "execution_count": 32,
   "metadata": {},
   "outputs": [],
   "source": [
    "batch_size = 128\n",
    "num_hidden_nodes = 1024\n",
    "\n",
    "def get_matmul(data_set, weights, biais):\n",
    "    return tf.matmul(data_set, weights) + biais\n",
    "\n",
    "graph = tf.Graph()\n",
    "with graph.as_default():\n",
    "    tf_train_dataset = tf.placeholder(tf.float32, shape=(batch_size, image_size2))\n",
    "    tf_train_labels = tf.placeholder(tf.float32, shape=(batch_size, num_labels))\n",
    "    tf_valid_dataset = tf.constant(valid_dataset)\n",
    "    tf_test_dataset = tf.constant(test_dataset)\n",
    "    \n",
    "    beta_regul = tf.placeholder(tf.float32)\n",
    "    \n",
    "    # hidden Layer 1\n",
    "    weights1 = tf.Variable(tf.truncated_normal([image_size2, num_hidden_nodes]))\n",
    "    biais1 = tf.Variable(tf.zeros([num_hidden_nodes]))\n",
    "    train_lay1 = tf.nn.relu(get_matmul(tf_train_dataset, weights1, biais1))\n",
    "    \n",
    "    # Layer 2\n",
    "    weights2= tf.Variable(tf.truncated_normal([num_hidden_nodes, num_labels]))\n",
    "    biais2 = tf.Variable(tf.zeros([num_labels]))\n",
    "    logits = get_matmul(train_lay1, weights2, biais2)\n",
    "    \n",
    "    loss = tf.reduce_mean(tf.nn.softmax_cross_entropy_with_logits(logits=logits, labels=tf_train_labels)) \\\n",
    "        + beta_regul * ( tf.nn.l2_loss(weights1) + tf.nn.l2_loss(weights2))\n",
    "        \n",
    "    optimizer = tf.train.GradientDescentOptimizer(0.5).minimize(loss)\n",
    "    \n",
    "    train_prediction = tf.nn.softmax(logits)\n",
    "    \n",
    "    lay1_valid = tf.nn.relu(get_matmul(valid_dataset, weights1, biais1))\n",
    "    valid_prediction = get_logits(lay1_valid, weights2, biais2)\n",
    "    \n",
    "    lay1_test = tf.nn.relu(get_matmul(test_dataset, weights1, biais1))\n",
    "    test_prediction = get_logits(lay1_test, weights2, biais2)\n",
    "    "
   ]
  },
  {
   "cell_type": "code",
   "execution_count": 34,
   "metadata": {},
   "outputs": [
    {
     "name": "stdout",
     "output_type": "stream",
     "text": [
      "Initialized\n",
      "offset: 0\n",
      "Minibatch loss at step 0: 648.161926\n",
      "Minibatch accuracy: 16.4%\n",
      "Validation accuracy: 29.0%\n",
      "offset: 64000\n",
      "Minibatch loss at step 500: 200.911011\n",
      "Minibatch accuracy: 78.1%\n",
      "Validation accuracy: 81.3%\n",
      "offset: 128000\n",
      "Minibatch loss at step 1000: 114.281639\n",
      "Minibatch accuracy: 79.7%\n",
      "Validation accuracy: 82.1%\n",
      "offset: 192000\n",
      "Minibatch loss at step 1500: 68.893257\n",
      "Minibatch accuracy: 82.0%\n",
      "Validation accuracy: 83.5%\n",
      "offset: 56128\n",
      "Minibatch loss at step 2000: 41.819633\n",
      "Minibatch accuracy: 85.9%\n",
      "Validation accuracy: 84.7%\n",
      "offset: 120128\n",
      "Minibatch loss at step 2500: 25.263294\n",
      "Minibatch accuracy: 87.5%\n",
      "Validation accuracy: 86.6%\n",
      "offset: 184128\n",
      "Minibatch loss at step 3000: 15.584317\n",
      "Minibatch accuracy: 84.4%\n",
      "Validation accuracy: 87.5%\n",
      "Test accuracy: 92.8%\n"
     ]
    }
   ],
   "source": [
    "num_steps = 3001\n",
    "batch_size = 128\n",
    "\n",
    "with tf.Session(graph=graph) as session:\n",
    "    tf.global_variables_initializer().run()\n",
    "    print(\"Initialized\")\n",
    "    for step in range(num_steps):\n",
    "        offset = (step * batch_size) % (train_labels.shape[0] - batch_size)\n",
    "        \n",
    "        batch_data = train_dataset[offset:(offset + batch_size), :]\n",
    "        batch_labels = train_labels[offset:(offset + batch_size), :]\n",
    "        \n",
    "        feed_dict = { tf_train_dataset: batch_data, tf_train_labels: batch_labels, beta_regul: 1e-3 }\n",
    "        \n",
    "        _, l, predictions = session.run([optimizer, loss, train_prediction], feed_dict=feed_dict)\n",
    "        \n",
    "        if(step%500 == 0):\n",
    "              print(\"offset: %d\" % offset)\n",
    "              print(\"Minibatch loss at step %d: %f\" % (step, l))\n",
    "              print(\"Minibatch accuracy: %.1f%%\" % accuracy(predictions, batch_labels))\n",
    "              print(\"Validation accuracy: %.1f%%\" % accuracy(valid_prediction.eval(), valid_labels))\n",
    "    print(\"Test accuracy: %.1f%%\" % accuracy(test_prediction.eval(), test_labels))"
   ]
  },
  {
   "cell_type": "markdown",
   "metadata": {
    "colab_type": "text",
    "id": "na8xX2yHZzNF"
   },
   "source": [
    "---\n",
    "Problem 2\n",
    "---------\n",
    "Let's demonstrate an extreme case of overfitting. Restrict your training data to just a few batches. What happens?\n",
    "\n",
    "---"
   ]
  },
  {
   "cell_type": "code",
   "execution_count": 46,
   "metadata": {
    "collapsed": true
   },
   "outputs": [],
   "source": [
    "batch_size = 128\n",
    "num_hidden_nodes = 1024\n",
    "\n",
    "def get_matmul(data_set, weights, biais):\n",
    "    return tf.matmul(data_set, weights) + biais\n",
    "\n",
    "graph = tf.Graph()\n",
    "with graph.as_default():\n",
    "    tf_train_dataset = tf.placeholder(tf.float32, shape=(batch_size, image_size2))\n",
    "    tf_train_labels = tf.placeholder(tf.float32, shape=(batch_size, num_labels))\n",
    "    tf_valid_dataset = tf.constant(valid_dataset)\n",
    "    tf_test_dataset = tf.constant(test_dataset)\n",
    "    \n",
    "    beta_regul = tf.placeholder(tf.float32)\n",
    "    \n",
    "    # hidden Layer 1\n",
    "    weights1 = tf.Variable(tf.truncated_normal([image_size2, num_hidden_nodes]))\n",
    "    biais1 = tf.Variable(tf.zeros([num_hidden_nodes]))\n",
    "    train_lay1 = tf.nn.relu(get_matmul(tf_train_dataset, weights1, biais1))\n",
    "    \n",
    "    # Layer 2\n",
    "    weights2= tf.Variable(tf.truncated_normal([num_hidden_nodes, num_labels]))\n",
    "    biais2 = tf.Variable(tf.zeros([num_labels]))\n",
    "    logits = get_matmul(train_lay1, weights2, biais2)\n",
    "    \n",
    "    loss = tf.reduce_mean(tf.nn.softmax_cross_entropy_with_logits(logits=logits, labels=tf_train_labels)) \\\n",
    "        + beta_regul * ( tf.nn.l2_loss(weights1) + tf.nn.l2_loss(weights2))\n",
    "        \n",
    "    optimizer = tf.train.GradientDescentOptimizer(0.5).minimize(loss)\n",
    "    \n",
    "    train_prediction = tf.nn.softmax(logits)\n",
    "    \n",
    "    lay1_valid = tf.nn.relu(get_matmul(valid_dataset, weights1, biais1))\n",
    "    valid_prediction = get_logits(lay1_valid, weights2, biais2)\n",
    "    \n",
    "    lay1_test = tf.nn.relu(get_matmul(test_dataset, weights1, biais1))\n",
    "    test_prediction = get_logits(lay1_test, weights2, biais2)\n",
    "    "
   ]
  },
  {
   "cell_type": "code",
   "execution_count": 47,
   "metadata": {},
   "outputs": [
    {
     "name": "stdout",
     "output_type": "stream",
     "text": [
      "Initialized\n",
      "offset: 0\n",
      "Minibatch loss at step 0: 682.016052\n",
      "Minibatch accuracy: 4.7%\n",
      "Validation accuracy: 30.4%\n",
      "offset: 2\n",
      "Minibatch loss at step 5: 365.127441\n",
      "Minibatch accuracy: 81.2%\n",
      "Validation accuracy: 59.8%\n",
      "offset: 1\n",
      "Minibatch loss at step 10: 311.693939\n",
      "Minibatch accuracy: 100.0%\n",
      "Validation accuracy: 62.6%\n",
      "offset: 0\n",
      "Minibatch loss at step 15: 310.139099\n",
      "Minibatch accuracy: 100.0%\n",
      "Validation accuracy: 62.6%\n",
      "offset: 2\n",
      "Minibatch loss at step 20: 308.592377\n",
      "Minibatch accuracy: 100.0%\n",
      "Validation accuracy: 62.6%\n",
      "offset: 1\n",
      "Minibatch loss at step 25: 307.052521\n",
      "Minibatch accuracy: 100.0%\n",
      "Validation accuracy: 62.6%\n",
      "offset: 0\n",
      "Minibatch loss at step 30: 305.520905\n",
      "Minibatch accuracy: 100.0%\n",
      "Validation accuracy: 62.6%\n",
      "offset: 2\n",
      "Minibatch loss at step 35: 303.996429\n",
      "Minibatch accuracy: 100.0%\n",
      "Validation accuracy: 62.6%\n",
      "offset: 1\n",
      "Minibatch loss at step 40: 302.480164\n",
      "Minibatch accuracy: 100.0%\n",
      "Validation accuracy: 62.6%\n",
      "offset: 0\n",
      "Minibatch loss at step 45: 300.970764\n",
      "Minibatch accuracy: 100.0%\n",
      "Validation accuracy: 62.6%\n",
      "offset: 2\n",
      "Minibatch loss at step 50: 299.469940\n",
      "Minibatch accuracy: 100.0%\n",
      "Validation accuracy: 62.6%\n",
      "offset: 1\n",
      "Minibatch loss at step 55: 297.975891\n",
      "Minibatch accuracy: 100.0%\n",
      "Validation accuracy: 62.6%\n",
      "offset: 0\n",
      "Minibatch loss at step 60: 296.489075\n",
      "Minibatch accuracy: 100.0%\n",
      "Validation accuracy: 62.6%\n",
      "offset: 2\n",
      "Minibatch loss at step 65: 295.010101\n",
      "Minibatch accuracy: 100.0%\n",
      "Validation accuracy: 62.6%\n",
      "offset: 1\n",
      "Minibatch loss at step 70: 293.538452\n",
      "Minibatch accuracy: 100.0%\n",
      "Validation accuracy: 62.6%\n",
      "offset: 0\n",
      "Minibatch loss at step 75: 292.073883\n",
      "Minibatch accuracy: 100.0%\n",
      "Validation accuracy: 62.6%\n",
      "offset: 2\n",
      "Minibatch loss at step 80: 290.616425\n",
      "Minibatch accuracy: 100.0%\n",
      "Validation accuracy: 62.6%\n",
      "offset: 1\n",
      "Minibatch loss at step 85: 289.167297\n",
      "Minibatch accuracy: 100.0%\n",
      "Validation accuracy: 62.6%\n",
      "offset: 0\n",
      "Minibatch loss at step 90: 287.724335\n",
      "Minibatch accuracy: 100.0%\n",
      "Validation accuracy: 62.6%\n",
      "offset: 2\n",
      "Minibatch loss at step 95: 286.289215\n",
      "Minibatch accuracy: 100.0%\n",
      "Validation accuracy: 62.6%\n",
      "offset: 1\n",
      "Minibatch loss at step 100: 284.860748\n",
      "Minibatch accuracy: 100.0%\n",
      "Validation accuracy: 62.6%\n",
      "Test accuracy: 67.9%\n"
     ]
    }
   ],
   "source": [
    "num_steps = 101\n",
    "num_batches = 3\n",
    "\n",
    "with tf.Session(graph=graph) as session:\n",
    "    tf.global_variables_initializer().run()\n",
    "    print(\"Initialized\")\n",
    "    for step in range(num_steps):\n",
    "        # offset = (step * batch_size) % (train_labels.shape[0] - batch_size)\n",
    "        offset = step % num_batches\n",
    "        \n",
    "        batch_data = train_dataset[offset:(offset + batch_size), :]\n",
    "        batch_labels = train_labels[offset:(offset + batch_size), :]\n",
    "        \n",
    "        feed_dict = { tf_train_dataset: batch_data, tf_train_labels: batch_labels, beta_regul: 1e-3 }\n",
    "        \n",
    "        _, l, predictions = session.run([optimizer, loss, train_prediction], feed_dict=feed_dict)\n",
    "        \n",
    "        if(step%5 == 0):\n",
    "              print(\"offset: %d\" % offset)\n",
    "              print(\"Minibatch loss at step %d: %f\" % (step, l))\n",
    "              print(\"Minibatch accuracy: %.1f%%\" % accuracy(predictions, batch_labels))\n",
    "              print(\"Validation accuracy: %.1f%%\" % accuracy(valid_prediction.eval(), valid_labels))\n",
    "    print(\"Test accuracy: %.1f%%\" % accuracy(test_prediction.eval(), test_labels))"
   ]
  },
  {
   "cell_type": "markdown",
   "metadata": {
    "colab_type": "text",
    "id": "ww3SCBUdlkRc"
   },
   "source": [
    "---\n",
    "Problem 3\n",
    "---------\n",
    "Introduce Dropout on the hidden layer of the neural network. Remember: Dropout should only be introduced during training, not evaluation, otherwise your evaluation results would be stochastic as well. TensorFlow provides `nn.dropout()` for that, but you have to make sure it's only inserted during training.\n",
    "\n",
    "What happens to our extreme overfitting case?\n",
    "\n",
    "---"
   ]
  },
  {
   "cell_type": "code",
   "execution_count": 44,
   "metadata": {
    "collapsed": true
   },
   "outputs": [],
   "source": [
    "batch_size = 128\n",
    "num_hidden_nodes = 1024\n",
    "\n",
    "def get_matmul(data_set, weights, biais):\n",
    "    return tf.matmul(data_set, weights) + biais\n",
    "\n",
    "graph = tf.Graph()\n",
    "with graph.as_default():\n",
    "    tf_train_dataset = tf.placeholder(tf.float32, shape=(batch_size, image_size2))\n",
    "    tf_train_labels = tf.placeholder(tf.float32, shape=(batch_size, num_labels))\n",
    "    tf_valid_dataset = tf.constant(valid_dataset)\n",
    "    tf_test_dataset = tf.constant(test_dataset)\n",
    "    \n",
    "    beta_regul = tf.placeholder(tf.float32)\n",
    "    \n",
    "    # hidden Layer 1\n",
    "    weights1 = tf.Variable(tf.truncated_normal([image_size2, num_hidden_nodes]))\n",
    "    biais1 = tf.Variable(tf.zeros([num_hidden_nodes]))\n",
    "    train_lay1 = tf.nn.relu(get_matmul(tf_train_dataset, weights1, biais1))\n",
    "    drop1 = tf.nn.dropout(train_lay1, 0.5)\n",
    "    \n",
    "    # Layer 2\n",
    "    weights2= tf.Variable(tf.truncated_normal([num_hidden_nodes, num_labels]))\n",
    "    biais2 = tf.Variable(tf.zeros([num_labels]))\n",
    "    logits = get_matmul(drop1, weights2, biais2)\n",
    "    \n",
    "    loss = tf.reduce_mean(tf.nn.softmax_cross_entropy_with_logits(logits=logits, labels=tf_train_labels))\n",
    "    #\\\n",
    "    #    + beta_regul * ( tf.nn.l2_loss(weights1) + tf.nn.l2_loss(weights2))\n",
    "        \n",
    "    optimizer = tf.train.GradientDescentOptimizer(0.5).minimize(loss)\n",
    "    \n",
    "    train_prediction = tf.nn.softmax(logits)\n",
    "    \n",
    "    lay1_valid = tf.nn.relu(get_matmul(valid_dataset, weights1, biais1))\n",
    "    valid_prediction = get_logits(lay1_valid, weights2, biais2)\n",
    "    \n",
    "    lay1_test = tf.nn.relu(get_matmul(test_dataset, weights1, biais1))\n",
    "    test_prediction = get_logits(lay1_test, weights2, biais2)\n",
    "    "
   ]
  },
  {
   "cell_type": "code",
   "execution_count": 45,
   "metadata": {},
   "outputs": [
    {
     "name": "stdout",
     "output_type": "stream",
     "text": [
      "Initialized\n",
      "offset: 0\n",
      "Minibatch loss at step 0: 546.755798\n",
      "Minibatch accuracy: 10.9%\n",
      "Validation accuracy: 35.0%\n",
      "offset: 2\n",
      "Minibatch loss at step 5: 126.182274\n",
      "Minibatch accuracy: 71.9%\n",
      "Validation accuracy: 57.1%\n",
      "offset: 1\n",
      "Minibatch loss at step 10: 2.270122\n",
      "Minibatch accuracy: 98.4%\n",
      "Validation accuracy: 64.3%\n",
      "offset: 0\n",
      "Minibatch loss at step 15: 8.718610\n",
      "Minibatch accuracy: 96.9%\n",
      "Validation accuracy: 62.0%\n",
      "offset: 2\n",
      "Minibatch loss at step 20: 1.651996\n",
      "Minibatch accuracy: 98.4%\n",
      "Validation accuracy: 65.7%\n",
      "offset: 1\n",
      "Minibatch loss at step 25: 2.568307\n",
      "Minibatch accuracy: 97.7%\n",
      "Validation accuracy: 64.5%\n",
      "offset: 0\n",
      "Minibatch loss at step 30: 1.098736\n",
      "Minibatch accuracy: 98.4%\n",
      "Validation accuracy: 63.2%\n",
      "offset: 2\n",
      "Minibatch loss at step 35: 2.209643\n",
      "Minibatch accuracy: 97.7%\n",
      "Validation accuracy: 65.0%\n",
      "offset: 1\n",
      "Minibatch loss at step 40: 0.513458\n",
      "Minibatch accuracy: 98.4%\n",
      "Validation accuracy: 65.4%\n",
      "offset: 0\n",
      "Minibatch loss at step 45: 0.729473\n",
      "Minibatch accuracy: 98.4%\n",
      "Validation accuracy: 65.3%\n",
      "offset: 2\n",
      "Minibatch loss at step 50: 3.868181\n",
      "Minibatch accuracy: 99.2%\n",
      "Validation accuracy: 65.4%\n",
      "offset: 1\n",
      "Minibatch loss at step 55: 0.000000\n",
      "Minibatch accuracy: 100.0%\n",
      "Validation accuracy: 66.2%\n",
      "offset: 0\n",
      "Minibatch loss at step 60: 0.000000\n",
      "Minibatch accuracy: 100.0%\n",
      "Validation accuracy: 66.6%\n",
      "offset: 2\n",
      "Minibatch loss at step 65: 0.183001\n",
      "Minibatch accuracy: 99.2%\n",
      "Validation accuracy: 66.4%\n",
      "offset: 1\n",
      "Minibatch loss at step 70: 0.445494\n",
      "Minibatch accuracy: 99.2%\n",
      "Validation accuracy: 66.1%\n",
      "offset: 0\n",
      "Minibatch loss at step 75: 0.523783\n",
      "Minibatch accuracy: 99.2%\n",
      "Validation accuracy: 65.9%\n",
      "offset: 2\n",
      "Minibatch loss at step 80: 0.000000\n",
      "Minibatch accuracy: 100.0%\n",
      "Validation accuracy: 65.6%\n",
      "offset: 1\n",
      "Minibatch loss at step 85: 0.000005\n",
      "Minibatch accuracy: 100.0%\n",
      "Validation accuracy: 65.5%\n",
      "offset: 0\n",
      "Minibatch loss at step 90: 1.935856\n",
      "Minibatch accuracy: 98.4%\n",
      "Validation accuracy: 65.7%\n",
      "offset: 2\n",
      "Minibatch loss at step 95: 0.109696\n",
      "Minibatch accuracy: 99.2%\n",
      "Validation accuracy: 65.0%\n",
      "offset: 1\n",
      "Minibatch loss at step 100: 0.000003\n",
      "Minibatch accuracy: 100.0%\n",
      "Validation accuracy: 65.2%\n",
      "Test accuracy: 70.8%\n"
     ]
    }
   ],
   "source": [
    "num_steps = 101\n",
    "num_batches = 3\n",
    "\n",
    "with tf.Session(graph=graph) as session:\n",
    "    tf.global_variables_initializer().run()\n",
    "    print(\"Initialized\")\n",
    "    for step in range(num_steps):\n",
    "        #offset = (step * batch_size) % (train_labels.shape[0] - batch_size)\n",
    "        offset = step % num_batches\n",
    "        batch_data = train_dataset[offset:(offset + batch_size), :]\n",
    "        batch_labels = train_labels[offset:(offset + batch_size), :]\n",
    "        \n",
    "        feed_dict = { tf_train_dataset: batch_data, tf_train_labels: batch_labels, beta_regul: 1e-3 }\n",
    "        \n",
    "        _, l, predictions = session.run([optimizer, loss, train_prediction], feed_dict=feed_dict)\n",
    "        \n",
    "        if(step%5 == 0):\n",
    "              print(\"offset: %d\" % offset)\n",
    "              print(\"Minibatch loss at step %d: %f\" % (step, l))\n",
    "              print(\"Minibatch accuracy: %.1f%%\" % accuracy(predictions, batch_labels))\n",
    "              print(\"Validation accuracy: %.1f%%\" % accuracy(valid_prediction.eval(), valid_labels))\n",
    "    print(\"Test accuracy: %.1f%%\" % accuracy(test_prediction.eval(), test_labels))"
   ]
  },
  {
   "cell_type": "markdown",
   "metadata": {
    "colab_type": "text",
    "id": "-b1hTz3VWZjw"
   },
   "source": [
    "---\n",
    "Problem 4\n",
    "---------\n",
    "\n",
    "Try to get the best performance you can using a multi-layer model! The best reported test accuracy using a deep network is [97.1%](http://yaroslavvb.blogspot.com/2011/09/notmnist-dataset.html?showComment=1391023266211#c8758720086795711595).\n",
    "\n",
    "One avenue you can explore is to add multiple layers.\n",
    "\n",
    "Another one is to use learning rate decay:\n",
    "\n",
    "    global_step = tf.Variable(0)  # count the number of steps taken.\n",
    "    learning_rate = tf.train.exponential_decay(0.5, global_step, ...)\n",
    "    optimizer = tf.train.GradientDescentOptimizer(learning_rate).minimize(loss, global_step=global_step)\n",
    " \n",
    " ---\n"
   ]
  },
  {
   "cell_type": "code",
   "execution_count": null,
   "metadata": {
    "collapsed": true
   },
   "outputs": [],
   "source": []
  }
 ],
 "metadata": {
  "colab": {
   "default_view": {},
   "name": "3_regularization.ipynb",
   "provenance": [],
   "version": "0.3.2",
   "views": {}
  },
  "kernelspec": {
   "display_name": "Python 3",
   "language": "python",
   "name": "python3"
  },
  "language_info": {
   "codemirror_mode": {
    "name": "ipython",
    "version": 3
   },
   "file_extension": ".py",
   "mimetype": "text/x-python",
   "name": "python",
   "nbconvert_exporter": "python",
   "pygments_lexer": "ipython3",
   "version": "3.5.2"
  }
 },
 "nbformat": 4,
 "nbformat_minor": 1
}
